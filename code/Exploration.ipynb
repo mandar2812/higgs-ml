{
 "metadata": {
  "name": "",
  "signature": "sha256:e195d1e1d74a34d7fd5d170635a494bbdf8fc9bbb8160833a8c5c7451461a338"
 },
 "nbformat": 3,
 "nbformat_minor": 0,
 "worksheets": [
  {
   "cells": [
    {
     "cell_type": "code",
     "collapsed": false,
     "input": [
      "from sklearn import svm\n",
      "import pandas as pd\n",
      "from sklearn.ensemble import ExtraTreesClassifier\n",
      "from sklearn.cross_validation import cross_val_score\n",
      "from sklearn.preprocessing import Imputer"
     ],
     "language": "python",
     "metadata": {},
     "outputs": [],
     "prompt_number": 1
    },
    {
     "cell_type": "code",
     "collapsed": false,
     "input": [
      "train_df = pd.read_csv(\"../data/training-weka.csv\", na_values = ['?'], sep=',')\n",
      "list(train_df.columns.values)"
     ],
     "language": "python",
     "metadata": {},
     "outputs": [
      {
       "metadata": {},
       "output_type": "pyout",
       "prompt_number": 2,
       "text": [
        "['EventId',\n",
        " 'DER_mass_MMC',\n",
        " 'DER_mass_transverse_met_lep',\n",
        " 'DER_mass_vis',\n",
        " 'DER_pt_h',\n",
        " 'DER_deltaeta_jet_jet',\n",
        " 'DER_mass_jet_jet',\n",
        " 'DER_prodeta_jet_jet',\n",
        " 'DER_deltar_tau_lep',\n",
        " 'DER_pt_tot',\n",
        " 'DER_sum_pt',\n",
        " 'DER_pt_ratio_lep_tau',\n",
        " 'DER_met_phi_centrality',\n",
        " 'DER_lep_eta_centrality',\n",
        " 'PRI_tau_pt',\n",
        " 'PRI_tau_eta',\n",
        " 'PRI_tau_phi',\n",
        " 'PRI_lep_pt',\n",
        " 'PRI_lep_eta',\n",
        " 'PRI_lep_phi',\n",
        " 'PRI_met',\n",
        " 'PRI_met_phi',\n",
        " 'PRI_met_sumet',\n",
        " 'PRI_jet_num',\n",
        " 'PRI_jet_leading_pt',\n",
        " 'PRI_jet_leading_eta',\n",
        " 'PRI_jet_leading_phi',\n",
        " 'PRI_jet_subleading_pt',\n",
        " 'PRI_jet_subleading_eta',\n",
        " 'PRI_jet_subleading_phi',\n",
        " 'PRI_jet_all_pt',\n",
        " 'Weight',\n",
        " 'Label']"
       ]
      }
     ],
     "prompt_number": 2
    },
    {
     "cell_type": "code",
     "collapsed": false,
     "input": [
      "et = ExtraTreesClassifier(n_estimators=100, max_depth=None, min_samples_split=1, random_state=0)\n",
      " \n",
      "columns = list(train_df.columns.values)\n",
      " \n",
      "labels = train_df[\"Label\"].values\n",
      "features = train_df[columns[1:31]].values\n",
      "\n",
      "imp = Imputer(missing_values='NaN', strategy='mean', axis=0, copy=False)\n",
      "features = imp.fit_transform(features)\n",
      " \n",
      "et_score = cross_val_score(et, features, labels, n_jobs=-1).mean()\n",
      " \n",
      "print(\"{0} -> ET: {1})\".format(columns, et_score))"
     ],
     "language": "python",
     "metadata": {},
     "outputs": []
    },
    {
     "cell_type": "code",
     "collapsed": false,
     "input": [],
     "language": "python",
     "metadata": {},
     "outputs": []
    }
   ],
   "metadata": {}
  }
 ]
}